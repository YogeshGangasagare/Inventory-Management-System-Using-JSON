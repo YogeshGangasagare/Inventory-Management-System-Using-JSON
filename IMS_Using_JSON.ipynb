{
  "nbformat": 4,
  "nbformat_minor": 0,
  "metadata": {
    "colab": {
      "name": "IMS Using JSON.ipynb",
      "provenance": [],
      "collapsed_sections": []
    },
    "kernelspec": {
      "display_name": "Python 3",
      "name": "python3"
    },
    "language_info": {
      "name": "python"
    }
  },
  "cells": [
    {
      "cell_type": "markdown",
      "metadata": {
        "id": "NyS8nbPHeELa"
      },
      "source": [
        "Read Data from JSON file"
      ]
    },
    {
      "cell_type": "code",
      "metadata": {
        "id": "QlqxNaMnilt2"
      },
      "source": [
        "import json\n",
        "fd = open(\"record.json\",\"r\")\n",
        "r = fd.read()\n",
        "fd.close()\n",
        "record = json.loads(r)\n"
      ],
      "execution_count": 12,
      "outputs": []
    },
    {
      "cell_type": "code",
      "metadata": {
        "colab": {
          "base_uri": "https://localhost:8080/",
          "height": 171
        },
        "id": "Mwlg5UuEozYM",
        "outputId": "bf6eddfa-e0e6-4b82-f9a3-0eba9c037eda"
      },
      "source": [
        "r"
      ],
      "execution_count": 13,
      "outputs": [
        {
          "output_type": "execute_result",
          "data": {
            "application/vnd.google.colaboratory.intrinsic+json": {
              "type": "string"
            },
            "text/plain": [
              "'{\"1001\": {\"name\": \"Choco Cake\", \"Mfg date\": \"01/09/2021\", \"price\": 100, \"quantity\": 34, \"Category\": \"Food\"}, \\n\"1002\": {\"name\": \"Milk Cake\", \"Mfg date\": \"02/09/2021\", \"price\": 800, \"quantity\": 100, \"Category\": \"Food\"}, \\n\"1003\": {\"name\": \"Drink\", \"Mfg date\": \"05/09/2021\", \"price\": 85, \"quantity\": 100, \"Category\": \"Food\"}, \\n\"1004\": {\"name\": \"Candy\", \"Mfg date\": \"2/08/2021\", \"price\": 5, \"quantity\": 1000, \"Category\": \"Food\"}, \\n\"1005\": {\"name\": \"Pen\", \"Mfg date\": \"01/01/2021\", \"price\": 20, \"quantity\": 100, \"Category\": \"Stationary\"}, \\n\"1006\": {\"name\": \"Phone\", \"Mfg date\": \"01/7/2021\", \"price\": 50000, \"quantity\": 10, \"Category\": \"Accessories\"}, \\n\"1007\": {\"name\": \"Mic\", \"Mfg date\": \"01/09/2021\", \"price\": 1500, \"quantity\": 0, \"Category\": \"Accessories\"}, \\n\"1008\": {\"name\": \"Case\", \"Mfg date\": \"05/011/2020\", \"price\": 599, \"quantity\": 5, \"Category\": \"Accessories\"}, \\n\"1009\": {\"name\": \"Keyboard\", \"Mfg date\": \"06/011/2020\", \"price\": 1999, \"quantity\": 10, \"Category\": \"Accessories\"}}'"
            ]
          },
          "metadata": {},
          "execution_count": 13
        }
      ]
    },
    {
      "cell_type": "code",
      "metadata": {
        "colab": {
          "base_uri": "https://localhost:8080/"
        },
        "id": "2-6b3_GUbhFj",
        "outputId": "c996bf79-301d-4a6d-fdda-44458a6141f7"
      },
      "source": [
        "r.split(\"\\n\")"
      ],
      "execution_count": 14,
      "outputs": [
        {
          "output_type": "execute_result",
          "data": {
            "text/plain": [
              "['{\"1001\": {\"name\": \"Choco Cake\", \"Mfg date\": \"01/09/2021\", \"price\": 100, \"quantity\": 34, \"Category\": \"Food\"}, ',\n",
              " '\"1002\": {\"name\": \"Milk Cake\", \"Mfg date\": \"02/09/2021\", \"price\": 800, \"quantity\": 100, \"Category\": \"Food\"}, ',\n",
              " '\"1003\": {\"name\": \"Drink\", \"Mfg date\": \"05/09/2021\", \"price\": 85, \"quantity\": 100, \"Category\": \"Food\"}, ',\n",
              " '\"1004\": {\"name\": \"Candy\", \"Mfg date\": \"2/08/2021\", \"price\": 5, \"quantity\": 1000, \"Category\": \"Food\"}, ',\n",
              " '\"1005\": {\"name\": \"Pen\", \"Mfg date\": \"01/01/2021\", \"price\": 20, \"quantity\": 100, \"Category\": \"Stationary\"}, ',\n",
              " '\"1006\": {\"name\": \"Phone\", \"Mfg date\": \"01/7/2021\", \"price\": 50000, \"quantity\": 10, \"Category\": \"Accessories\"}, ',\n",
              " '\"1007\": {\"name\": \"Mic\", \"Mfg date\": \"01/09/2021\", \"price\": 1500, \"quantity\": 0, \"Category\": \"Accessories\"}, ',\n",
              " '\"1008\": {\"name\": \"Case\", \"Mfg date\": \"05/011/2020\", \"price\": 599, \"quantity\": 5, \"Category\": \"Accessories\"}, ',\n",
              " '\"1009\": {\"name\": \"Keyboard\", \"Mfg date\": \"06/011/2020\", \"price\": 1999, \"quantity\": 10, \"Category\": \"Accessories\"}}']"
            ]
          },
          "metadata": {},
          "execution_count": 14
        }
      ]
    },
    {
      "cell_type": "markdown",
      "metadata": {
        "id": "sCZBPxI1eWjY"
      },
      "source": [
        "Add"
      ]
    },
    {
      "cell_type": "code",
      "metadata": {
        "colab": {
          "base_uri": "https://localhost:8080/"
        },
        "id": "Va6eNrk0eTB6",
        "outputId": "bd57600e-348d-47b3-c8af-22a74ac8d6cf"
      },
      "source": [
        "product_id = str(input(\"Please enter a product Id : \"))\n",
        "name = str(input(\"please enter product name : \"))\n",
        "mfg_date = str(input(\"please enter product Mfg Date : \"))\n",
        "price = int(input(\"please enter product price : \"))\n",
        "quantity = int(input(\"please enter product quantity : \"))\n",
        "category = str(input(\"please enter product Category : \"))\n",
        "\n",
        "record[product_id] = {\"name\" : name, \"Mfg date\" : mfg_date, \"price\" : price, \"quantity\" : quantity, \"Category\" : category}\n",
        "js =json.dumps(record)\n",
        "fd = open(\"record.json\",\"w\")\n",
        "fd.write(js)\n",
        "fd.close()\n",
        "\n"
      ],
      "execution_count": 133,
      "outputs": [
        {
          "name": "stdout",
          "output_type": "stream",
          "text": [
            "Please enter a product Id : 1032\n",
            "please enter product name : Plate\n",
            "please enter product Mfg Date : 22/07/2021\n",
            "please enter product price : 499\n",
            "please enter product quantity : 9\n",
            "please enter product Category : House-Hold\n"
          ]
        }
      ]
    },
    {
      "cell_type": "code",
      "metadata": {
        "colab": {
          "base_uri": "https://localhost:8080/"
        },
        "id": "GEtnoqlEiao8",
        "outputId": "ecf9e3d1-b343-43f2-807f-dfb7fdce9e43"
      },
      "source": [
        "record"
      ],
      "execution_count": 131,
      "outputs": [
        {
          "output_type": "execute_result",
          "data": {
            "text/plain": [
              "{'1001': {'Category': 'Food',\n",
              "  'Mfg date': '01/09/2021',\n",
              "  'name': 'Choco Cake',\n",
              "  'price': 100,\n",
              "  'quantity': 34},\n",
              " '1002': {'Category': 'Food',\n",
              "  'Mfg date': '02/09/2021',\n",
              "  'name': 'Milk Cake',\n",
              "  'price': 800,\n",
              "  'quantity': 100},\n",
              " '1003': {'Category': 'Food',\n",
              "  'Mfg date': '05/09/2021',\n",
              "  'name': 'Drink',\n",
              "  'price': 85,\n",
              "  'quantity': 100},\n",
              " '1004': {'Category': 'Food',\n",
              "  'Mfg date': '2/08/2021',\n",
              "  'name': 'Candy',\n",
              "  'price': 5,\n",
              "  'quantity': 1000},\n",
              " '1005': {'Category': 'Stationary',\n",
              "  'Mfg date': '01/01/2021',\n",
              "  'name': 'Pen',\n",
              "  'price': 20,\n",
              "  'quantity': 100},\n",
              " '1006': {'Category': 'Accessories',\n",
              "  'Mfg date': '01/7/2021',\n",
              "  'name': 'Phone',\n",
              "  'price': 50000,\n",
              "  'quantity': 10},\n",
              " '1007': {'Category': 'Accessories',\n",
              "  'Mfg date': '01/09/2021',\n",
              "  'name': 'Mic',\n",
              "  'price': 1500,\n",
              "  'quantity': 0},\n",
              " '1008': {'Category': 'Accessories',\n",
              "  'Mfg date': '05/011/2020',\n",
              "  'name': 'Case',\n",
              "  'price': 599,\n",
              "  'quantity': 5},\n",
              " '1009': {'Category': 'Accessories',\n",
              "  'Mfg date': '06/011/2020',\n",
              "  'name': 'Keyboard',\n",
              "  'price': 1999,\n",
              "  'quantity': 10},\n",
              " '1010': {'Category': 'Stationary',\n",
              "  'Mfg date': '19/01/2021',\n",
              "  'name': 'Books',\n",
              "  'price': 45,\n",
              "  'quantity': 70},\n",
              " '1011': {'Category': 'Drinks',\n",
              "  'Mfg date': '12/08/2021',\n",
              "  'name': 'Water Bottel',\n",
              "  'price': 20,\n",
              "  'quantity': 100},\n",
              " '1012': {'Category': 'Accessories',\n",
              "  'Mfg date': '01/01/2021',\n",
              "  'name': 'Charger',\n",
              "  'price': 250,\n",
              "  'quantity': 90},\n",
              " '1013': {'Category': 'Accessories',\n",
              "  'Mfg date': '02/01/2021',\n",
              "  'name': 'Remote',\n",
              "  'price': 200,\n",
              "  'quantity': 50},\n",
              " '1014': {'Category': 'Food',\n",
              "  'Mfg date': '06/09/2021',\n",
              "  'name': 'Omlet',\n",
              "  'price': 30,\n",
              "  'quantity': 10},\n",
              " '1015': {'Category': 'Fast Food',\n",
              "  'Mfg date': '06/09/2021',\n",
              "  'name': 'Noodles',\n",
              "  'price': 120,\n",
              "  'quantity': 10},\n",
              " '1016': {'Category': 'Drinks',\n",
              "  'Mfg date': '01/02/2021',\n",
              "  'name': 'Fruit Juice',\n",
              "  'price': 20,\n",
              "  'quantity': 10},\n",
              " '1017': {'Category': 'Food',\n",
              "  'Mfg date': '08/08/2021',\n",
              "  'name': 'Salt',\n",
              "  'price': 10,\n",
              "  'quantity': 60},\n",
              " '1018': {'Category': 'Medicine',\n",
              "  'Mfg date': '06/08/2021',\n",
              "  'name': 'Paracetamol',\n",
              "  'price': 5,\n",
              "  'quantity': 100},\n",
              " '1019': {'Category': 'Medicine',\n",
              "  'Mfg date': '02/08/2021',\n",
              "  'name': 'Cough Syrup',\n",
              "  'price': 50,\n",
              "  'quantity': 50},\n",
              " '1020': {'Category': 'Essentials',\n",
              "  'Mfg date': '01/01/2021',\n",
              "  'name': 'Mask',\n",
              "  'price': 10,\n",
              "  'quantity': 50},\n",
              " '1021': {'Category': 'Essentials',\n",
              "  'Mfg date': '01/01/2021',\n",
              "  'name': 'N-95 Mask',\n",
              "  'price': 90,\n",
              "  'quantity': 50},\n",
              " '1022': {'Category': 'Accessories',\n",
              "  'Mfg date': '06/06/2021',\n",
              "  'name': 'Laptop',\n",
              "  'price': 70000,\n",
              "  'quantity': 15},\n",
              " '1023': {'Category': 'Accessories',\n",
              "  'Mfg date': '07/07/2021',\n",
              "  'name': 'Wrist watch',\n",
              "  'price': 500,\n",
              "  'quantity': 50},\n",
              " '1024': {'Category': 'Accessories',\n",
              "  'Mfg date': '13/06/2021',\n",
              "  'name': 'Ear Buds',\n",
              "  'price': 999,\n",
              "  'quantity': 30},\n",
              " '1025': {'Category': 'Accessories',\n",
              "  'Mfg date': '01/09/2021',\n",
              "  'name': 'Screen Guard',\n",
              "  'price': 101,\n",
              "  'quantity': 50},\n",
              " '1026': {'Category': 'Cloths',\n",
              "  'Mfg date': '14/07/2021',\n",
              "  'name': 'T-Shirt',\n",
              "  'price': 800,\n",
              "  'quantity': 70},\n",
              " '1027': {'Category': 'Cloths',\n",
              "  'Mfg date': '19/08/2021',\n",
              "  'name': 'Shirt',\n",
              "  'price': 80,\n",
              "  'quantity': 90},\n",
              " '1028': {'Category': 'Accessories',\n",
              "  'Mfg date': '15/06/2021',\n",
              "  'name': 'Trimmer',\n",
              "  'price': 555,\n",
              "  'quantity': 56},\n",
              " '1029': {'Category': 'House-Holds',\n",
              "  'Mfg date': '01/05/2021',\n",
              "  'name': 'Olive-Oil',\n",
              "  'price': 160,\n",
              "  'quantity': 15},\n",
              " '1030': {'Category': 'House-Hold',\n",
              "  'Mfg date': '01/05/2021',\n",
              "  'name': 'Tooth-Brush',\n",
              "  'price': 20,\n",
              "  'quantity': 52},\n",
              " 1031: {'Category': 'Accessories',\n",
              "  'Mfg date': '08/08/2021',\n",
              "  'name': 'Speaker',\n",
              "  'price': 400,\n",
              "  'quantity': 33}}"
            ]
          },
          "metadata": {},
          "execution_count": 131
        }
      ]
    },
    {
      "cell_type": "markdown",
      "metadata": {
        "id": "ppZxdp4VM_QF"
      },
      "source": [
        "Purchase\n"
      ]
    },
    {
      "cell_type": "code",
      "metadata": {
        "id": "Rkb3Nx4g8GiD"
      },
      "source": [
        "import json\n",
        "fd = open(\"record.json\",\"r\")\n",
        "r = fd.read()\n",
        "fd.close()\n",
        "records = json.loads(r)"
      ],
      "execution_count": 17,
      "outputs": []
    },
    {
      "cell_type": "code",
      "metadata": {
        "colab": {
          "base_uri": "https://localhost:8080/"
        },
        "id": "QMsEFRpz7sFH",
        "outputId": "198781ca-e80e-42e8-89b5-636260f01764"
      },
      "source": [
        "records"
      ],
      "execution_count": 18,
      "outputs": [
        {
          "output_type": "execute_result",
          "data": {
            "text/plain": [
              "{'1001': {'Category': 'Food',\n",
              "  'Mfg date': '01/09/2021',\n",
              "  'name': 'Choco Cake',\n",
              "  'price': 100,\n",
              "  'quantity': 34},\n",
              " '1002': {'Category': 'Food',\n",
              "  'Mfg date': '02/09/2021',\n",
              "  'name': 'Milk Cake',\n",
              "  'price': 800,\n",
              "  'quantity': 100},\n",
              " '1003': {'Category': 'Food',\n",
              "  'Mfg date': '05/09/2021',\n",
              "  'name': 'Drink',\n",
              "  'price': 85,\n",
              "  'quantity': 100},\n",
              " '1004': {'Category': 'Food',\n",
              "  'Mfg date': '2/08/2021',\n",
              "  'name': 'Candy',\n",
              "  'price': 5,\n",
              "  'quantity': 1000},\n",
              " '1005': {'Category': 'Stationary',\n",
              "  'Mfg date': '01/01/2021',\n",
              "  'name': 'Pen',\n",
              "  'price': 20,\n",
              "  'quantity': 100},\n",
              " '1006': {'Category': 'Accessories',\n",
              "  'Mfg date': '01/7/2021',\n",
              "  'name': 'Phone',\n",
              "  'price': 50000,\n",
              "  'quantity': 10},\n",
              " '1007': {'Category': 'Accessories',\n",
              "  'Mfg date': '01/09/2021',\n",
              "  'name': 'Mic',\n",
              "  'price': 1500,\n",
              "  'quantity': 0},\n",
              " '1008': {'Category': 'Accessories',\n",
              "  'Mfg date': '05/011/2020',\n",
              "  'name': 'Case',\n",
              "  'price': 599,\n",
              "  'quantity': 5},\n",
              " '1009': {'Category': 'Accessories',\n",
              "  'Mfg date': '06/011/2020',\n",
              "  'name': 'Keyboard',\n",
              "  'price': 1999,\n",
              "  'quantity': 10},\n",
              " '1010': {'Category': 'Stationary',\n",
              "  'Mfg date': '19/01/2021',\n",
              "  'name': 'Books',\n",
              "  'price': 45,\n",
              "  'quantity': 70}}"
            ]
          },
          "metadata": {},
          "execution_count": 18
        }
      ]
    },
    {
      "cell_type": "code",
      "metadata": {
        "id": "Trpgd7drHr9-"
      },
      "source": [
        "import time\n",
        "date_and_time = time.ctime()"
      ],
      "execution_count": 20,
      "outputs": []
    },
    {
      "cell_type": "code",
      "metadata": {
        "colab": {
          "base_uri": "https://localhost:8080/"
        },
        "id": "g2TMwli6B0NB",
        "outputId": "ec6da023-cf91-4cdb-f37e-1839c314fb06"
      },
      "source": [
        " user_product = str(input(\"Please Enter The Product Id : \"))\n",
        " user_quantity = int(input(\"Please Enter The Required Quantity : \"))\n",
        "\n",
        " a = print(date_and_time)\n",
        " print(\"Product Name : \", records[user_product][\"name\"])\n",
        " print(\"Product price : \", records[user_product][\"price\"])\n",
        " print(\"*************************************************************\")\n",
        " print(\"Billing Cost : \", records[user_product][\"price\"] * user_quantity )\n",
        " print(\"*************************************************************\")\n",
        " records[user_product][\"quantity\"] = records[user_product][\"quantity\"] - user_quantity\n",
        "\n"
      ],
      "execution_count": 134,
      "outputs": [
        {
          "output_type": "stream",
          "name": "stdout",
          "text": [
            "Please Enter The Product Id : 1010\n",
            "Please Enter The Required Quantity : 1\n",
            "Mon Sep  6 12:35:18 2021\n",
            "Product Name :  Books\n",
            "Product price :  45\n",
            "*************************************************************\n",
            "Billing Cost :  45\n",
            "*************************************************************\n"
          ]
        }
      ]
    },
    {
      "cell_type": "markdown",
      "metadata": {
        "id": "-abhbnBH96dc"
      },
      "source": [
        "Update quantity after purchase\n"
      ]
    },
    {
      "cell_type": "code",
      "metadata": {
        "id": "wVPxYIOi-P1b"
      },
      "source": [
        "js = json.dumps(records)\n",
        "fd = open(\"record.json\",\"w\")\n",
        "fd.write(js)\n",
        "fd.close()\n"
      ],
      "execution_count": 91,
      "outputs": []
    },
    {
      "cell_type": "markdown",
      "metadata": {
        "id": "zmGKD2A-BRxt"
      },
      "source": [
        "Sales Json\n"
      ]
    },
    {
      "cell_type": "code",
      "metadata": {
        "id": "qaf5Fqkz_rwT",
        "colab": {
          "base_uri": "https://localhost:8080/"
        },
        "outputId": "9b57b311-255b-4fc2-fd2e-24f15523a1b3"
      },
      "source": [
        "    sales={len(sales):{\"product Name\": records[str(user_product)][\"name\"], \"ProductId\" : user_product, \"Purchased Quantity\" : user_quantity, \"Billing Cost\" :record[user_product][\"price\"] * user_quantity},\n",
        "           len(sales)+1:{\"product Name\": records[str(user_product)][\"name\"], \"ProductId\" : user_product, \"Purchased Quantity\" : user_quantity, \"Billing Cost\" :record[user_product][\"price\"] * user_quantity}\n",
        "    }               \n",
        "    print(sales)\n",
        "    sales=json.dumps(sales)\n",
        "\n",
        "    fd=open(\"sales.json\",'w')\n",
        "    fd.write(sales)\n",
        "    fd.close()\n",
        "\n",
        "    fd=open(\"sales.json\",'r')\n",
        "    sold=fd.read()\n",
        "    fd.close()\n",
        "\n",
        "    sales=json.loads(sold)"
      ],
      "execution_count": 135,
      "outputs": [
        {
          "output_type": "stream",
          "name": "stdout",
          "text": [
            "{2: {'product Name': 'Books', 'ProductId': '1010', 'Purchased Quantity': 1, 'Billing Cost': 45}, 3: {'product Name': 'Books', 'ProductId': '1010', 'Purchased Quantity': 1, 'Billing Cost': 45}}\n"
          ]
        }
      ]
    }
  ]
}